{
 "cells": [
  {
   "cell_type": "code",
   "execution_count": 1,
   "metadata": {},
   "outputs": [],
   "source": [
    "from pymongo import MongoClient\n",
    "\n",
    "host = '10.12.192.31'\n",
    "port = 27017\n",
    "\n",
    "client = MongoClient(host=host, port=port)\n",
    "collection = client['wikidata']['raw']"
   ]
  },
  {
   "cell_type": "code",
   "execution_count": 19,
   "metadata": {},
   "outputs": [],
   "source": [
    "query = {'id': 'P31'}\n",
    "res = collection.find_one(query)"
   ]
  },
  {
   "cell_type": "code",
   "execution_count": 20,
   "metadata": {},
   "outputs": [
    {
     "data": {
      "text/plain": [
       "dict_keys(['_id', 'type', 'datatype', 'id', 'labels', 'descriptions', 'aliases', 'claims', 'lastrevid', 'properties'])"
      ]
     },
     "execution_count": 20,
     "metadata": {},
     "output_type": "execute_result"
    }
   ],
   "source": [
    "res.keys()"
   ]
  },
  {
   "cell_type": "code",
   "execution_count": 3,
   "metadata": {},
   "outputs": [
    {
     "data": {
      "text/plain": [
       "{'description': {'english': 'that class of which this subject is a particular example and member'},\n",
       " 'aliases': {'english': ['is a',\n",
       "   'is an',\n",
       "   'has class',\n",
       "   'has type',\n",
       "   'is a particular']}}"
      ]
     },
     "execution_count": 3,
     "metadata": {},
     "output_type": "execute_result"
    }
   ],
   "source": [
    "def get_wikidata_context(wiki_id, topk_aliases=5):\n",
    "    query = {'id': wiki_id}\n",
    "    res = collection.find_one(query)\n",
    "    langs = {'en': 'english'}\n",
    "    output = {\"description\": {}, \"aliases\": {}}\n",
    "    for lang in langs:\n",
    "        output[\"description\"][langs[lang]] = res['descriptions'][lang]['value']\n",
    "        output[\"aliases\"][langs[lang]] = [each['value'] for each in res['aliases'][lang]][:topk_aliases]\n",
    "    return output\n",
    "get_wikidata_context('P31')"
   ]
  }
 ],
 "metadata": {
  "kernelspec": {
   "display_name": "data-process",
   "language": "python",
   "name": "python3"
  },
  "language_info": {
   "codemirror_mode": {
    "name": "ipython",
    "version": 3
   },
   "file_extension": ".py",
   "mimetype": "text/x-python",
   "name": "python",
   "nbconvert_exporter": "python",
   "pygments_lexer": "ipython3",
   "version": "3.8.16"
  },
  "orig_nbformat": 4,
  "vscode": {
   "interpreter": {
    "hash": "e4c793426adf016a6deb589c78ef9b52b0d2671097f5c49eb7a518bfd664e7c4"
   }
  }
 },
 "nbformat": 4,
 "nbformat_minor": 2
}
