{
 "cells": [
  {
   "cell_type": "code",
   "execution_count": 1,
   "metadata": {},
   "outputs": [],
   "source": [
    "import os\n",
    "import json\n",
    "from augment_utils import augment_sample\n",
    "from tqdm import tqdm\n",
    "from multiprocessing.pool import Pool"
   ]
  },
  {
   "cell_type": "code",
   "execution_count": 2,
   "metadata": {},
   "outputs": [],
   "source": [
    "mapping_dir = \"/harddisk/data/nlp_data/kb/wikidata/20210520/mapping/\"\n",
    "mapping_file = \"qid2p279.json\"\n",
    "ontology = json.load(open(os.path.join(mapping_dir, mapping_file)))"
   ]
  },
  {
   "cell_type": "code",
   "execution_count": 3,
   "metadata": {},
   "outputs": [],
   "source": [
    "qid2label = json.load(open(os.path.join(mapping_dir, \"qid2sitelinks.enwiki.title.json\")))\n",
    "label2qid = {value: key for key, value in qid2label.items()}"
   ]
  },
  {
   "cell_type": "code",
   "execution_count": 4,
   "metadata": {},
   "outputs": [],
   "source": [
    "prior_map = json.load(open(\"/harddisk/data/nlp_data/kb/wikipedia/20220620/enwiki-20220620/output/mention/entity_prior.json\"))"
   ]
  },
  {
   "cell_type": "code",
   "execution_count": 5,
   "metadata": {},
   "outputs": [],
   "source": [
    "# loading processed corpus\n",
    "data = []\n",
    "with open(\"/harddisk/user/keminglu/pretrained_data_processed/wikipedia_with_mention_wo_title_simplified/corpus\") as f:\n",
    "    line = f.readline()\n",
    "    while line:\n",
    "        data.append(line)\n",
    "        line = f.readline()"
   ]
  },
  {
   "cell_type": "code",
   "execution_count": 7,
   "metadata": {},
   "outputs": [
    {
     "name": "stdout",
     "output_type": "stream",
     "text": [
      "{'id': '26037730', 'title': 'Orehovec, Kostanjevica na Krki', 'inputs': 'Orehovec (; in older sources also \"Orehovica\", ) is a village in the Gorjanci Hills in the Municipality of Kostanjevica na Krki in eastern Slovenia. Its territory extends south to the border with Croatia. The area is part of the traditional region of Lower Carniola. It is now included in the Lower Sava Statistical Region. Extract entities.', 'targets': '{\"entities\": [{\"mention\": \"Slovenia\", \"title\": \"Slovenia\", \"type\": [\"Sovereign state\", \"Country\"], \"description\": \"country in Central Europe\", \"aliases\": [\"Slovenija\", \"Republika Slovenija\", \"si\", \"\\\\ud83c\\\\uddf8\\\\ud83c\\\\uddee\", \"svn\"]}, {\"mention\": \"Lower Sava Statistical Region\", \"title\": \"Lower Sava Statistical Region\", \"type\": [\"Statistical regions of Slovenia\"], \"description\": \"statistical region of Slovenia\", \"aliases\": [\"Posavska statisti\\\\u010dna regija\", \"Posavska Statistical Region\"]}, {\"mention\": \"Gorjanci\", \"title\": \"\\\\u017dumberak Mountains\", \"type\": [\"Mountain range\"], \"description\": \"mountain range\", \"aliases\": [\"Gorjanci\"]}, {\"mention\": \"Municipality of Kostanjevica na Krki\", \"title\": \"Municipality of Kostanjevica na Krki\", \"type\": [\"Municipalities of Slovenia\"], \"description\": \"municipality of Slovenia\"}, {\"mention\": \"Croatia\", \"title\": \"Croatia\", \"type\": [\"Sovereign state\", \"Unitary state\", \"Country\"], \"description\": \"country in southeastern Europe\", \"aliases\": [\"Republic of Croatia\", \"HR\", \"HRV\", \"hr\", \"\\\\ud83c\\\\udded\\\\ud83c\\\\uddf7\"]}, {\"mention\": \"Lower Carniola\", \"title\": \"Lower Carniola\", \"type\": [\"Province\", \"Historical region\"], \"description\": \"traditional region in Slovenia\"}, {\"mention\": \"village\", \"title\": \"Village\", \"description\": \"small clustered human settlement smaller than a town\", \"aliases\": [\"small town\", \"Village\"]}], \"triplets\": [{\"head\": \"Slovenia\", \"tail\": \"Municipality of Kostanjevica na Krki\", \"relations\": [\"contains administrative territorial entity\"]}, {\"head\": \"Gorjanci\", \"tail\": \"Slovenia\", \"relations\": [\"country\"]}, {\"head\": \"Slovenia\", \"tail\": \"Croatia\", \"relations\": [\"diplomatic relation\", \"shares border with\"]}, {\"head\": \"Municipality of Kostanjevica na Krki\", \"tail\": \"Slovenia\", \"relations\": [\"country\", \"located in the administrative territorial entity\"]}, {\"head\": \"Lower Sava Statistical Region\", \"tail\": \"Slovenia\", \"relations\": [\"country\"]}, {\"head\": \"Gorjanci\", \"tail\": \"Croatia\", \"relations\": [\"country\", \"located in the administrative territorial entity\"]}, {\"head\": \"Croatia\", \"tail\": \"Slovenia\", \"relations\": [\"diplomatic relation\", \"shares border with\"]}, {\"head\": \"Municipality of Kostanjevica na Krki\", \"tail\": \"Lower Sava Statistical Region\", \"relations\": [\"located in the statistical territorial entity\"]}, {\"head\": \"Croatia\", \"tail\": \"Croatia\", \"relations\": [\"country\"]}, {\"head\": \"Slovenia\", \"tail\": \"Slovenia\", \"relations\": [\"country\"]}, {\"head\": \"Lower Carniola\", \"tail\": \"Slovenia\", \"relations\": [\"country\"]}]}', 'prompt': 'Extract entities.', 'aug_type': 'aug_default', 'aug_info': None}\n",
      "\n",
      "\n",
      "\n",
      "{'id': '26037730', 'title': 'Orehovec, Kostanjevica na Krki', 'inputs': 'Orehovec (; in older sources also \"Orehovica\", ) is a village in the Gorjanci Hills in the Municipality of Kostanjevica na Krki in eastern Slovenia. Its territory extends south to the border with Croatia. The area is part of the traditional region of Lower Carniola. It is now included in the Lower Sava Statistical Region. Extract the most important 6 entities.', 'targets': '{\"entities\": [{\"mention\": \"village\", \"title\": \"Village\", \"description\": \"small clustered human settlement smaller than a town\", \"aliases\": [\"small town\", \"Village\"]}, {\"mention\": \"Croatia\", \"title\": \"Croatia\", \"type\": [\"Sovereign state\", \"Unitary state\", \"Country\"], \"description\": \"country in southeastern Europe\", \"aliases\": [\"Republic of Croatia\", \"HR\", \"HRV\", \"hr\", \"\\\\ud83c\\\\udded\\\\ud83c\\\\uddf7\"]}, {\"mention\": \"Slovenia\", \"title\": \"Slovenia\", \"type\": [\"Sovereign state\", \"Country\"], \"description\": \"country in Central Europe\", \"aliases\": [\"Slovenija\", \"Republika Slovenija\", \"si\", \"\\\\ud83c\\\\uddf8\\\\ud83c\\\\uddee\", \"svn\"]}, {\"mention\": \"Lower Carniola\", \"title\": \"Lower Carniola\", \"type\": [\"Province\", \"Historical region\"], \"description\": \"traditional region in Slovenia\"}, {\"mention\": \"Lower Sava Statistical Region\", \"title\": \"Lower Sava Statistical Region\", \"type\": [\"Statistical regions of Slovenia\"], \"description\": \"statistical region of Slovenia\", \"aliases\": [\"Posavska statisti\\\\u010dna regija\", \"Posavska Statistical Region\"]}, {\"mention\": \"Gorjanci\", \"title\": \"\\\\u017dumberak Mountains\", \"type\": [\"Mountain range\"], \"description\": \"mountain range\", \"aliases\": [\"Gorjanci\"]}], \"triplets\": [{\"head\": \"Gorjanci\", \"tail\": \"Slovenia\", \"relations\": [\"country\"]}, {\"head\": \"Slovenia\", \"tail\": \"Croatia\", \"relations\": [\"diplomatic relation\", \"shares border with\"]}, {\"head\": \"Lower Sava Statistical Region\", \"tail\": \"Slovenia\", \"relations\": [\"country\"]}, {\"head\": \"Gorjanci\", \"tail\": \"Croatia\", \"relations\": [\"country\", \"located in the administrative territorial entity\"]}, {\"head\": \"Croatia\", \"tail\": \"Slovenia\", \"relations\": [\"diplomatic relation\", \"shares border with\"]}, {\"head\": \"Croatia\", \"tail\": \"Croatia\", \"relations\": [\"country\"]}, {\"head\": \"Slovenia\", \"tail\": \"Slovenia\", \"relations\": [\"country\"]}, {\"head\": \"Lower Carniola\", \"tail\": \"Slovenia\", \"relations\": [\"country\"]}]}', 'prompt': 'Extract the most important 6 entities.', 'aug_type': 'aug_importance', 'aug_info': 6}\n",
      "\n",
      "\n",
      "\n"
     ]
    }
   ],
   "source": [
    "sample = json.loads(data[3])\n",
    "for aug_sample in augment_sample(sample, prior_map, label2qid, qid2label, ontology):\n",
    "    print(aug_sample)\n",
    "    print(\"\\n\\n\")"
   ]
  },
  {
   "cell_type": "code",
   "execution_count": 6,
   "metadata": {},
   "outputs": [
    {
     "name": "stderr",
     "output_type": "stream",
     "text": [
      "100%|█████████▉| 5722905/5723727 [09:32<00:00, 8953.63it/s] "
     ]
    },
    {
     "name": "stderr",
     "output_type": "stream",
     "text": [
      "100%|██████████| 5723727/5723727 [09:50<00:00, 8953.63it/s]"
     ]
    }
   ],
   "source": [
    "output_file = \"/harddisk/user/keminglu/pretrained_data_processed/wikipedia_with_mention_wo_title_simplified_aug/corpus\"\n",
    "\n",
    "def init():\n",
    "    global prior_map\n",
    "    global qid2label\n",
    "    global label2qid\n",
    "    global ontology\n",
    "\n",
    "def run(sample):\n",
    "    sample = json.loads(sample)\n",
    "    return augment_sample(sample, prior_map, label2qid, qid2label, ontology)\n",
    "\n",
    "pbar = tqdm(total=len(data))\n",
    "with Pool(8, initializer=init) as pool:\n",
    "    with open(output_file, \"w\") as f:\n",
    "        for output in pool.imap_unordered(run, data):\n",
    "            for line in output:\n",
    "                f.write(json.dumps(line) + \"\\n\")\n",
    "            pbar.update(1)"
   ]
  },
  {
   "cell_type": "code",
   "execution_count": 14,
   "metadata": {},
   "outputs": [],
   "source": [
    "data = []\n",
    "with open(\"/harddisk/user/keminglu/pretrained_data_processed/wikipedia_with_mention_wo_title_simplified_aug_eval/corpus\") as f:\n",
    "    data = [json.loads(line) for line in f.readlines()]"
   ]
  },
  {
   "cell_type": "code",
   "execution_count": 15,
   "metadata": {},
   "outputs": [],
   "source": [
    "type_cnt_dict = {}\n",
    "for sample in data:\n",
    "    if sample['aug_type'] not in type_cnt_dict:\n",
    "        type_cnt_dict[sample['aug_type']] = 0\n",
    "    type_cnt_dict[sample['aug_type']] += 1"
   ]
  },
  {
   "cell_type": "code",
   "execution_count": 16,
   "metadata": {},
   "outputs": [
    {
     "name": "stdout",
     "output_type": "stream",
     "text": [
      "{'aug_default': 159649, 'aug_ent_num_and_base_type': 22109, 'aug_rollup_type': 20276, 'aug_ent_num': 25105, 'aug_importance': 25326, 'aug_description': 24932, 'aug_ent_num_and_rollup_type': 20219, 'aug_base_type': 21682}\n"
     ]
    }
   ],
   "source": [
    "print(type_cnt_dict)"
   ]
  }
 ],
 "metadata": {
  "kernelspec": {
   "display_name": "data-process",
   "language": "python",
   "name": "python3"
  },
  "language_info": {
   "codemirror_mode": {
    "name": "ipython",
    "version": 3
   },
   "file_extension": ".py",
   "mimetype": "text/x-python",
   "name": "python",
   "nbconvert_exporter": "python",
   "pygments_lexer": "ipython3",
   "version": "3.8.16"
  },
  "orig_nbformat": 4,
  "vscode": {
   "interpreter": {
    "hash": "e4c793426adf016a6deb589c78ef9b52b0d2671097f5c49eb7a518bfd664e7c4"
   }
  }
 },
 "nbformat": 4,
 "nbformat_minor": 2
}
