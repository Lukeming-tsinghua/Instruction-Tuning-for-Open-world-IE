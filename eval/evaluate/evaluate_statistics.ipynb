{
 "cells": [
  {
   "cell_type": "code",
   "execution_count": 7,
   "metadata": {},
   "outputs": [],
   "source": [
    "import json\n",
    "import os\n",
    "import numpy as np"
   ]
  },
  {
   "cell_type": "code",
   "execution_count": 22,
   "metadata": {},
   "outputs": [],
   "source": [
    "data_dir = \"/data/home/keminglu/workspace/evaluation_corpus\"\n",
    "data_file = os.path.join(data_dir, \"finetune_7b_data_v1_epoch_1_wiki_eval_output.txt\")"
   ]
  },
  {
   "cell_type": "code",
   "execution_count": 23,
   "metadata": {},
   "outputs": [],
   "source": [
    "with open(data_file) as f:\n",
    "    data = [json.loads(line) for line in f.readlines()]"
   ]
  },
  {
   "cell_type": "code",
   "execution_count": 24,
   "metadata": {},
   "outputs": [
    {
     "name": "stdout",
     "output_type": "stream",
     "text": [
      "{'input': 'The badge is awarded either by the DLRG or the Wasserwacht of the German Red Cross.', 'output': {'status': False}, 'annotate': {'id': '29900090', 'title': 'German snorkeling badge', 'ents': [[{'end': 39, 'id': '367234', 'start': 35, 'text': 'DLRG', 'title': 'German Life Saving Association', 'qid': 'Q871679', 'description': {'english': 'relief organization for life saving in Germany'}, 'aliases': {'english': ['Deutsche Lebens-Rettungs-Gesellschaft', 'DLRG']}, 'type': ['Nonprofit organization']}, {'end': 58, 'id': '1138845', 'start': 47, 'text': 'Wasserwacht', 'title': 'Wasserwacht', 'qid': 'Q2551937', 'description': {'english': 'German lifeguard service'}, 'aliases': {}, 'type': ['Aid agency']}]], 'n_ents': 2, 'n_mapped_ent': 2, 'relations': [], 'n_rel_pair': 0, 'n_rel': 0}}\n",
      "1 3 2.0\n",
      "1 4 2.5\n",
      "0\n"
     ]
    }
   ],
   "source": [
    "report = {\n",
    "    \"pred_ent_num\": [],\n",
    "    \"true_ent_num\": [],\n",
    "    \"fail_cnt\": 0\n",
    "}\n",
    "for each in data:\n",
    "    if not each['output']['status']:\n",
    "        print(each)\n",
    "        break\n",
    "        report['fail_cnt'] += 1\n",
    "        continue\n",
    "    pred_ents = each['output']['entities']\n",
    "    true_ents = sum(each['annotate']['ents'], [])\n",
    "    report[\"pred_ent_num\"].append(len(pred_ents))\n",
    "    report[\"true_ent_num\"].append(len(true_ents))\n",
    "print(\n",
    "        np.min(report[\"pred_ent_num\"]),\n",
    "        np.max(report[\"pred_ent_num\"]),\n",
    "        np.mean(report[\"pred_ent_num\"]),\n",
    "    )\n",
    "print(\n",
    "        np.min(report[\"true_ent_num\"]),\n",
    "        np.max(report[\"true_ent_num\"]),\n",
    "        np.mean(report[\"true_ent_num\"]),\n",
    "    )\n",
    "print(report[\"fail_cnt\"])"
   ]
  }
 ],
 "metadata": {
  "kernelspec": {
   "display_name": "transformers",
   "language": "python",
   "name": "python3"
  },
  "language_info": {
   "codemirror_mode": {
    "name": "ipython",
    "version": 3
   },
   "file_extension": ".py",
   "mimetype": "text/x-python",
   "name": "python",
   "nbconvert_exporter": "python",
   "pygments_lexer": "ipython3",
   "version": "3.8.16"
  },
  "orig_nbformat": 4,
  "vscode": {
   "interpreter": {
    "hash": "fceb5c14fd5bb9497f9330c2eeb829ea1da1239a1871fb05da80190d45a37701"
   }
  }
 },
 "nbformat": 4,
 "nbformat_minor": 2
}
