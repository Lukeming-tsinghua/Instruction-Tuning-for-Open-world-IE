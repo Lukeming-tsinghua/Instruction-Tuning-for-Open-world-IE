{
 "cells": [
  {
   "cell_type": "code",
   "execution_count": 14,
   "metadata": {},
   "outputs": [],
   "source": [
    "import json\n",
    "import os\n",
    "from collections import defaultdict"
   ]
  },
  {
   "attachments": {},
   "cell_type": "markdown",
   "metadata": {},
   "source": [
    "# Entity Linking"
   ]
  },
  {
   "cell_type": "code",
   "execution_count": 15,
   "metadata": {},
   "outputs": [],
   "source": [
    "data_dir = \"/data/home/keminglu/workspace/devcloud\"\n",
    "file_name = \"7b_ie_output_con_b1.txt\"\n",
    "file_path = os.path.join(data_dir, file_name)"
   ]
  },
  {
   "cell_type": "code",
   "execution_count": 16,
   "metadata": {},
   "outputs": [],
   "source": [
    "with open(file_path) as f:\n",
    "    data = [json.loads(line) for line in f.readlines()]"
   ]
  },
  {
   "cell_type": "code",
   "execution_count": 18,
   "metadata": {},
   "outputs": [],
   "source": [
    "results = defaultdict(lambda: 0)\n",
    "total_cnt = defaultdict(lambda: 0)\n",
    "for record in data:\n",
    "    dataset = record['dataset']\n",
    "    true = record['true'][0]\n",
    "    try:\n",
    "        output = json.loads(record['prompt'] + ' ' + record['output'])['entities'][0]\n",
    "    except json.JSONDecodeError:\n",
    "        continue\n",
    "    aliases = output['aliases'] if 'aliases' in output else []\n",
    "    pred = [output['title']] + aliases\n",
    "    if true in pred:\n",
    "        results[dataset] += 1\n",
    "    else:\n",
    "        verbose = False\n",
    "        if verbose:\n",
    "            print(true, pred)\n",
    "    total_cnt[dataset] += 1"
   ]
  },
  {
   "cell_type": "code",
   "execution_count": 19,
   "metadata": {},
   "outputs": [
    {
     "data": {
      "text/plain": [
       "defaultdict(<function __main__.<lambda>()>,\n",
       "            {'ace2004-test-kilt.jsonl': 208,\n",
       "             'aida-test-kilt.jsonl': 3406,\n",
       "             'clueweb-test-kilt.jsonl': 7352,\n",
       "             'msnbc-test-kilt.jsonl': 482,\n",
       "             'aquaint-test-kilt.jsonl': 581})"
      ]
     },
     "execution_count": 19,
     "metadata": {},
     "output_type": "execute_result"
    }
   ],
   "source": [
    "results"
   ]
  },
  {
   "cell_type": "code",
   "execution_count": 20,
   "metadata": {},
   "outputs": [
    {
     "data": {
      "text/plain": [
       "{'ace2004-test-kilt.jsonl': 0.8093385214007782,\n",
       " 'aida-test-kilt.jsonl': 0.7594202898550725,\n",
       " 'clueweb-test-kilt.jsonl': 0.659194835470277,\n",
       " 'msnbc-test-kilt.jsonl': 0.7347560975609756,\n",
       " 'aquaint-test-kilt.jsonl': 0.7991746905089409}"
      ]
     },
     "execution_count": 20,
     "metadata": {},
     "output_type": "execute_result"
    }
   ],
   "source": [
    "accuracy = {key: results[key]/total_cnt[key] for key in total_cnt}\n",
    "accuracy"
   ]
  },
  {
   "attachments": {},
   "cell_type": "markdown",
   "metadata": {},
   "source": [
    "# NER"
   ]
  },
  {
   "cell_type": "code",
   "execution_count": 10,
   "metadata": {},
   "outputs": [],
   "source": [
    "data_dir = \"/data/home/keminglu/workspace/devcloud\"\n",
    "file_name = \"7b_ner_output.txt\"\n",
    "file_path = os.path.join(data_dir, file_name)"
   ]
  },
  {
   "cell_type": "code",
   "execution_count": 11,
   "metadata": {},
   "outputs": [],
   "source": [
    "with open(file_path) as f:\n",
    "    data = [json.loads(line) for line in f.readlines()]"
   ]
  },
  {
   "cell_type": "code",
   "execution_count": 12,
   "metadata": {},
   "outputs": [],
   "source": [
    "all_types = defaultdict(set)\n",
    "for record in data:\n",
    "    for _, t in record['true']:\n",
    "        all_types[(record['dataset'], record['split'])].add(t.lower())"
   ]
  },
  {
   "cell_type": "code",
   "execution_count": 13,
   "metadata": {},
   "outputs": [
    {
     "data": {
      "text/plain": [
       "{('conllpp', 'none'): (0.18995056544998984,\n",
       "  0.5016991593632624,\n",
       "  0.27556734453286175),\n",
       " ('crossner_politics', 'none'): (0.2820707070707071,\n",
       "  0.27303837692495725,\n",
       "  0.2774810582536332),\n",
       " ('crossner_politics', 'gold'): (0.31191885038038886,\n",
       "  0.27059398680029334,\n",
       "  0.2897905759162303),\n",
       " ('crossner_science', 'none'): (0.1788386177413609,\n",
       "  0.16628022524014574,\n",
       "  0.17233093031239272),\n",
       " ('crossner_science', 'gold'): (0.20333951762523192,\n",
       "  0.181517058628685,\n",
       "  0.19180959047952398),\n",
       " ('conllpp', 'gold'): (0.1994267287710498,\n",
       "  0.4977642639957074,\n",
       "  0.2847641461168525),\n",
       " ('crossner_ai', 'none'): (0.12055974165769645,\n",
       "  0.18972332015810275,\n",
       "  0.1474330846862659),\n",
       " ('crossner_ai', 'gold'): (0.11835003855050116,\n",
       "  0.17334839073969507,\n",
       "  0.1406643757159221),\n",
       " ('crossner_literature', 'none'): (0.20318352059925093,\n",
       "  0.30264993026499304,\n",
       "  0.2431372549019608),\n",
       " ('crossner_literature', 'gold'): (0.21764280549530007,\n",
       "  0.2798698279869828,\n",
       "  0.24486475493186902),\n",
       " ('crossner_music', 'none'): (0.2555225848994395,\n",
       "  0.23875539125077017,\n",
       "  0.24685459468068163),\n",
       " ('crossner_music', 'gold'): (0.2888557584793142,\n",
       "  0.23875539125077017,\n",
       "  0.2614268848035082)}"
      ]
     },
     "execution_count": 13,
     "metadata": {},
     "output_type": "execute_result"
    }
   ],
   "source": [
    "results = defaultdict(lambda: {\"pos_true\": 0, \"pos_num\": 0, \"pred_num\": 0})\n",
    "for record in data:\n",
    "    dataset = (record['dataset'], record['split'])\n",
    "    true = [(name.lower(), t.lower()) for name, t in record['true']]\n",
    "    results[dataset][\"pos_num\"] += len(set(true))\n",
    "    try:\n",
    "        output = json.loads(record['output'])['entities']\n",
    "    except json.JSONDecodeError:\n",
    "        continue\n",
    "\n",
    "    preds = []\n",
    "    for each in output:\n",
    "        if 'type' in each:\n",
    "            for t in each['type']:\n",
    "                if t.lower() in all_types[dataset]:\n",
    "                    preds.append((each['mention'].lower(), t.lower()))\n",
    "\n",
    "    results[dataset][\"pos_true\"] += len(set(true).intersection(set(preds)))\n",
    "    results[dataset][\"pred_num\"] += len(set(preds))\n",
    "\n",
    "def get_f1(res):\n",
    "    precision = res['pos_true']/res['pred_num']\n",
    "    recall = res['pos_true']/res['pos_num']\n",
    "    f1 = 2 * precision * recall / (precision + recall)\n",
    "    return precision, recall, f1\n",
    "\n",
    "{key: get_f1(results[key]) for key in results}"
   ]
  }
 ],
 "metadata": {
  "kernelspec": {
   "display_name": "bloom-inference",
   "language": "python",
   "name": "python3"
  },
  "language_info": {
   "codemirror_mode": {
    "name": "ipython",
    "version": 3
   },
   "file_extension": ".py",
   "mimetype": "text/x-python",
   "name": "python",
   "nbconvert_exporter": "python",
   "pygments_lexer": "ipython3",
   "version": "3.9.16"
  },
  "orig_nbformat": 4
 },
 "nbformat": 4,
 "nbformat_minor": 2
}
