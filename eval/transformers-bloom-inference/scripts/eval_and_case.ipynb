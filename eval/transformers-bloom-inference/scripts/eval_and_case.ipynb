{
 "cells": [
  {
   "cell_type": "code",
   "execution_count": 1,
   "metadata": {},
   "outputs": [],
   "source": [
    "import json\n",
    "import os"
   ]
  },
  {
   "cell_type": "code",
   "execution_count": 3,
   "metadata": {},
   "outputs": [],
   "source": [
    "result_dir = \"/data/home/keminglu/workspace/transformers-bloom-inference/results\"\n",
    "task = \"relation_extraction\"\n",
    "dataset = \"redocred\"\n",
    "data_file_path = os.path.join(result_dir, f\"results_{task}_{dataset}.json\")"
   ]
  },
  {
   "cell_type": "code",
   "execution_count": 4,
   "metadata": {},
   "outputs": [],
   "source": [
    "results = json.load(open(data_file_path))"
   ]
  },
  {
   "cell_type": "code",
   "execution_count": 9,
   "metadata": {},
   "outputs": [
    {
     "name": "stdout",
     "output_type": "stream",
     "text": [
      "precision: 0.31443415405466457, recall: 0.08272910971116129, f1: 0.13099327153813578\n"
     ]
    }
   ],
   "source": [
    "pos_true = 0\n",
    "n_pred = 0\n",
    "n_true = 0\n",
    "for pred, true in zip(results[\"preds\"], results[\"trues\"]):\n",
    "    pred_flat = set()\n",
    "    for h, t, rels in pred:\n",
    "        for r in rels:\n",
    "            pred_flat.add((h, t, r))\n",
    "    true_flat = set()\n",
    "    for h, t, r in true:\n",
    "        true_flat.add((h, t, r))\n",
    "    \n",
    "    pos_true += len(true_flat.intersection(pred_flat))\n",
    "    n_pred += len(pred_flat)\n",
    "    n_true += len(true_flat)\n",
    "\n",
    "precision = pos_true / n_pred\n",
    "recall = pos_true / n_true\n",
    "f1 = 2 * precision * recall / (precision + recall)\n",
    "print(f\"precision: {precision}, recall: {recall}, f1: {f1}\")"
   ]
  },
  {
   "cell_type": "code",
   "execution_count": 10,
   "metadata": {},
   "outputs": [],
   "source": [
    "dataset = \"retacred\"\n",
    "data_file_path = os.path.join(result_dir, f\"results_{task}_{dataset}.json\")"
   ]
  },
  {
   "cell_type": "code",
   "execution_count": 11,
   "metadata": {},
   "outputs": [],
   "source": [
    "results = json.load(open(data_file_path))"
   ]
  },
  {
   "cell_type": "code",
   "execution_count": null,
   "metadata": {},
   "outputs": [],
   "source": [
    "preds = []\n",
    "for pred in results[\"preds\"]:\n",
    "    if len(pred) == 0:\n",
    "        pred = \"no_relation\"\n",
    "    else:\n",
    "        pred = pred[0][2][0]\n",
    "    preds.append(pred)"
   ]
  },
  {
   "attachments": {},
   "cell_type": "markdown",
   "metadata": {},
   "source": [
    "## Wiki Eval"
   ]
  },
  {
   "cell_type": "code",
   "execution_count": 10,
   "metadata": {},
   "outputs": [],
   "source": [
    "data_file = \"/data/home/keminglu/workspace/evaluation_corpus/wiki_eval/finetune_1b1_data_v2_epoch_1_corpus_filtered_output.txt\""
   ]
  },
  {
   "cell_type": "code",
   "execution_count": 11,
   "metadata": {},
   "outputs": [],
   "source": [
    "data = [json.loads(line) for line in open(data_file).readlines()]"
   ]
  },
  {
   "cell_type": "code",
   "execution_count": 5,
   "metadata": {},
   "outputs": [
    {
     "name": "stdout",
     "output_type": "stream",
     "text": [
      "{'mention': 'Slow Burn', 'title': 'Slow Burn (album)', 'description': {'english': 'album by T. G. Sheppard'}, 'type': ['Album']} Slow Burn (T. G. Sheppard album)\n",
      "{'mention': 'Too Good to Stop Now', 'title': 'Too Good to Stop Now', 'description': {'english': 'album by John Schneider'}, 'type': ['Album']} Too Good to Stop Now (John Schneider album)\n",
      "{'mention': 'Montana', 'title': '2010–11 Montana Grizzlies basketball team', 'description': {'english': 'American college basketball season'}} 2009–10 Montana Grizzlies basketball team\n",
      "{'mention': '13 Paoni', 'title': 'Paoni 13 (Coptic Orthodox liturgics)', 'description': {'english': 'eleventh day of the tenth Coptic month'}} Paoni 13\n",
      "{'mention': 'Government of Moldova', 'title': 'Government of Moldova'} Cabinet of Moldova\n",
      "{'mention': 'Morristown Historic District', 'title': 'Morristown Historic District (Morristown, New Jersey)', 'description': {'english': 'historic district in Morristown, New Jersey'}, 'type': ['Historic district']} Morristown District\n",
      "{'mention': 'Arizona', 'title': 'Arizona Wildcats softball'} 2010 Arizona Wildcats softball team\n",
      "{'mention': 'Australia', 'title': \"Australia men's national soccer team\"} Australia national soccer team\n",
      "{'mention': 'Al-Bustan', 'title': 'Al-Bustan'} Al-Bustan (East Jerusalem)\n",
      "{'mention': 'İdil District', 'title': 'İdil', 'description': {'english': 'district in Şırnak Province, Turkey'}, 'type': ['İlçe', 'Town']} İdil District\n",
      "{'mention': 'Lambie-Nairn', 'title': 'Lambie-Nairn', 'description': {'english': 'British advertising agency'}, 'type': ['Business']} Superunion\n",
      "{'mention': 'UNC Wilmington', 'title': \"2000 UNC Wilmington Seahawks men's basketball team\", 'description': {'english': 'American college basketball season'}} 1999–2000 UNC Wilmington Seahawks men's basketball team\n",
      "{'mention': '2010–11 season', 'title': \"2010–11 NCAA Division I men's basketball season\", 'description': {'english': 'American collegiate athletics season'}, 'aliases': {'english': [\"2010-11 NCAA Division I men's basketball season\"]}, 'type': ['Season (sports)']} 2010–11 Mid-American Conference men's basketball season\n",
      "{'mention': 'Alabama State', 'title': \"2010–11 Alabama State Redbirds men's basketball team\", 'description': {'english': 'American college basketball season'}} 2010–11 Alabama State Hornets basketball team\n",
      "{'mention': 'Peruvian Primera División Femenina', 'title': 'Peruvian Primera División Femenina', 'description': {'english': 'sports league'}, 'aliases': {'english': ['Peruvian Primera Division Femenina']}, 'type': ['Sports league']} Primera División Femenina (Peru)\n",
      "{'mention': 'Highland Papua', 'title': 'Highland Province', 'description': {'english': 'province of Papua New Guinea'}, 'type': ['Provinces of Papua New Guinea']} Highland Papua\n",
      "{'mention': 'Dinar District', 'title': 'Dinar, Afyonkarahisar', 'description': {'english': 'district of Turkey'}, 'aliases': {'english': ['Dinar, Afyonkarahisar']}, 'type': ['İlçe']} Dinar District\n",
      "{'mention': 'Şuhut District', 'title': 'Şuhut', 'description': {'english': 'district in Afyonkarahisar Province, Turkey'}, 'type': ['İlçe', 'Town']} Şuhut District\n",
      "{'mention': 'Dinar District', 'title': 'Dinar, Afyonkarahisar', 'description': {'english': 'district of Turkey'}, 'aliases': {'english': ['Dinar, Afyonkarahisar']}, 'type': ['İlçe']} Dinar District\n",
      "{'mention': 'Şuhut District', 'title': 'Şuhut', 'description': {'english': 'district in Afyonkarahisar Province, Turkey'}, 'type': ['İlçe', 'Town']} Şuhut District\n",
      "{'mention': 'Sandıklı District', 'title': 'Sandıklı', 'description': {'english': 'district of Turkey'}, 'type': ['İlçe', 'Village']} Sandıklı District\n",
      "{'mention': 'Sinanpaşa District', 'title': 'Sinanpaşa', 'description': {'english': 'district in Afyonkarahisar Province, Turkey'}, 'type': ['İlçe', 'Town']} Sinanpaşa District\n",
      "{'mention': 'Sandıklı District', 'title': 'Sandıklı', 'description': {'english': 'district of Turkey'}, 'type': ['İlçe', 'Village']} Sandıklı District\n",
      "{'mention': 'Çay District', 'title': 'Çay', 'description': {'english': 'district of Turkey'}, 'aliases': {'english': ['Cay']}, 'type': ['İlçe', 'Town']} Çay District\n",
      "{'mention': 'İhsaniye District', 'title': 'İhsaniye', 'description': {'english': 'city in Turkey'}, 'aliases': {'english': ['Isaniye', 'Ehsenye', 'Isaniye, Afyonkarahisar']}, 'type': ['İlçe', 'City', 'Border town']} İhsaniye District\n",
      "{'mention': 'Besni District', 'title': 'Besni', 'description': {'english': 'district in Adıyaman Province, Turkey'}, 'type': ['İlçe']} Besni District\n",
      "{'mention': 'Besni District', 'title': 'Besni', 'description': {'english': 'district in Adıyaman Province, Turkey'}, 'type': ['İlçe']} Besni District\n",
      "{'mention': 'Adıyaman District', 'title': 'Adıyaman', 'description': {'english': 'city in Turkey'}, 'type': ['City', 'İlçe', 'Municipality']} Adıyaman District\n",
      "{'mention': 'Besni District', 'title': 'Besni', 'description': {'english': 'district in Adıyaman Province, Turkey'}, 'type': ['İlçe']} Besni District\n",
      "{'mention': 'Besni District', 'title': 'Besni', 'description': {'english': 'district in Adıyaman Province, Turkey'}, 'type': ['İlçe']} Besni District\n",
      "{'mention': 'Adıyaman District', 'title': 'Adıyaman', 'description': {'english': 'city in Turkey'}, 'type': ['City', 'İlçe', 'Municipality']} Adıyaman District\n",
      "{'mention': 'Adıyaman District', 'title': 'Adıyaman', 'description': {'english': 'city in Turkey'}, 'type': ['City', 'İlçe', 'Municipality']} Adıyaman District\n",
      "{'mention': 'Tut District', 'title': 'Tut, Adı', 'description': {'english': 'district in Adıyaman Province, Turkey'}, 'type': ['İlçe']} Tut District\n",
      "{'mention': 'Besni District', 'title': 'Besni', 'description': {'english': 'district in Adıyaman Province, Turkey'}, 'type': ['İlçe']} Besni District\n",
      "{'mention': 'Kâhta District', 'title': 'Kâhta', 'description': {'english': 'District of Turkey'}, 'aliases': {'english': ['Kahta']}, 'type': ['İlçe', 'Village']} Kâhta District\n",
      "{'mention': 'Adıyaman District', 'title': 'Adıyaman', 'description': {'english': 'city in Turkey'}, 'type': ['City', 'İlçe', 'Municipality']} Adıyaman District\n",
      "{'mention': 'Gölbaşı District', 'title': 'Gölbaşı', 'description': {'english': 'district in Turkey'}, 'type': ['İlçe', 'Town']} Gölbaşı District, Adıyaman\n",
      "{'mention': 'Çelikhan District', 'title': 'Çelikhan', 'description': {'english': 'district in Adıyaman Province, Turkey'}, 'type': ['İlçe', 'Town']} Çelikhan District\n",
      "{'mention': 'Kâhta District', 'title': 'Kâhta', 'description': {'english': 'District of Turkey'}, 'aliases': {'english': ['Kahta']}, 'type': ['İlçe', 'Village']} Kâhta District\n",
      "{'mention': 'Samsat District', 'title': 'Samsat, Adıyaman', 'description': {'english': 'city in Turkey'}, 'type': ['City', 'İlçe']} Samsat District\n",
      "{'mention': 'Kâhta District', 'title': 'Kâhta', 'description': {'english': 'District of Turkey'}, 'aliases': {'english': ['Kahta']}, 'type': ['İlçe', 'Village']} Kâhta District\n",
      "{'mention': 'Kâhta District', 'title': 'Kâhta', 'description': {'english': 'District of Turkey'}, 'aliases': {'english': ['Kahta']}, 'type': ['İlçe', 'Village']} Kâhta District\n",
      "{'mention': 'Gölbaşı District', 'title': 'Gölbaşı', 'description': {'english': 'district in Adıyaman Province, Turkey'}, 'type': ['İlçe', 'Town']} Gölbaşı District, Adıyaman\n",
      "{'mention': 'Samsat District', 'title': 'Samsat, Adıyaman', 'description': {'english': 'district in Adıyaman Province, Turkey'}, 'type': ['İlçe']} Samsat District\n",
      "{'mention': 'Kâhta District', 'title': 'Kâhta', 'description': {'english': 'District of Turkey'}, 'aliases': {'english': ['Kahta']}, 'type': ['İlçe', 'Village']} Kâhta District\n",
      "{'mention': 'Kâhta District', 'title': 'Kâhta', 'description': {'english': 'District of Turkey'}, 'aliases': {'english': ['Kahta']}, 'type': ['İlçe', 'Village']} Kâhta District\n",
      "{'mention': 'Çelikhan District', 'title': 'Çelikhan', 'description': {'english': 'district in Adıyaman Province, Turkey'}, 'type': ['İlçe', 'Town']} Çelikhan District\n",
      "{'mention': 'Çelikhan District', 'title': 'Çelikhan', 'description': {'english': 'district in Adıyaman Province, Turkey'}, 'type': ['İlçe', 'Town']} Çelikhan District\n",
      "{'mention': 'Sincik District', 'title': 'Sincik', 'description': {'english': 'district of Turkey'}, 'type': ['İlçe', 'Town']} Sincik District\n",
      "{'mention': 'Kâhta District', 'title': 'Kâhta', 'description': {'english': 'District of Turkey'}, 'aliases': {'english': ['Kahta']}, 'type': ['İlçe', 'Village']} Kâhta District\n",
      "{'mention': 'Ağaçören District', 'title': 'Ağaçören', 'description': {'english': 'district in Aksaray Province, Turkey'}, 'type': ['İlçe', 'Town']} Ağaçören District\n",
      "{'mention': 'Aksaray District', 'title': 'Aksaray, Turkey', 'description': {'english': 'city in Turkey'}, 'aliases': {'english': ['Aksaray, Turkey']}, 'type': ['City', 'İlçe']} Aksaray District\n",
      "{'mention': 'Sultanhanı District', 'title': 'Sultanhanı', 'description': {'english': 'district of Turkey'}, 'type': ['İlçe', 'Town']} Sultanhanı District\n",
      "{'mention': 'Aksaray District', 'title': 'Aksaray, Turkey', 'description': {'english': 'city in Turkey'}, 'aliases': {'english': ['Aksaray, Turkey']}, 'type': ['City', 'İlçe']} Aksaray District\n",
      "{'mention': 'Aksaray District', 'title': 'Aksaray, Turkey', 'description': {'english': 'city in Turkey'}, 'aliases': {'english': ['Aksaray, Turkey']}, 'type': ['City', 'İlçe']} Aksaray District\n",
      "{'mention': 'Gülağaç District', 'title': 'Gülağaç', 'description': {'english': 'district of Turkey'}, 'type': ['İlçe', 'Town']} Gülağaç District\n",
      "0.8415841584158416 0.2871287128712871 101\n",
      "0.8201634877384196 0.7220708446866485 367\n"
     ]
    }
   ],
   "source": [
    "ood_recall = 0\n",
    "ood_correct_title = 0\n",
    "ood_mention_num = 0\n",
    "id_recall = 0\n",
    "id_correct_title = 0\n",
    "id_mention_num = 0\n",
    "for sample in data:\n",
    "    targets = sample['targets']\n",
    "    if \"prompt\" in sample:\n",
    "        outputs = json.loads(sample[\"prompt\"] + \" \" + sample['output'])\n",
    "    else:\n",
    "        outputs = json.loads(sample['output'])\n",
    "\n",
    "\n",
    "    ood_mentions = {each['mention']: each['title'] for each in targets[\"entities\"] if each['ood'] != 'in'}\n",
    "    ood_mention_num += len(ood_mentions)\n",
    "    id_mentions = {each['mention']: each['title'] for each in targets[\"entities\"] if each['ood'] == 'in'}\n",
    "    id_mention_num += len(id_mentions)\n",
    "    for each in outputs[\"entities\"]:\n",
    "        if each['mention'] in ood_mentions:\n",
    "            ood_recall += 1\n",
    "            if each['title'] == ood_mentions[each['mention']]:\n",
    "                ood_correct_title += 1\n",
    "            else:\n",
    "                print(each, ood_mentions[each['mention']])\n",
    "        elif each['mention'] in id_mentions:\n",
    "            id_recall += 1\n",
    "            if each['title'] == id_mentions[each['mention']]:\n",
    "                id_correct_title += 1\n",
    "\n",
    "print(ood_recall/ood_mention_num, ood_correct_title/ood_mention_num, ood_mention_num)\n",
    "print(id_recall/id_mention_num, id_correct_title/id_mention_num, id_mention_num)"
   ]
  },
  {
   "cell_type": "code",
   "execution_count": 26,
   "metadata": {},
   "outputs": [],
   "source": [
    "ood_mentions = []\n",
    "for sample in data:\n",
    "    ood = [each for each in sample['targets']['entities'] if each['ood'] != 'in']\n",
    "    for each in ood:\n",
    "        ood_mentions.append({\n",
    "            \"input_text\": sample['inputs'],\n",
    "            \"prompt\": '{\"mention\": \"%s\", \"title\": \"%s\", \"description\":' % (each['mention'], each['title']),\n",
    "            \"true\": each['description'] if 'description' in each else None\n",
    "        })\n",
    "\n",
    "with open(\"/data/home/keminglu/workspace/evaluation_corpus/wiki_eval/ood_ent_description_eval.jsonl\", \"w\") as f:\n",
    "    for record in ood_mentions:\n",
    "        f.write(json.dumps(record) + \"\\n\")"
   ]
  },
  {
   "cell_type": "code",
   "execution_count": 15,
   "metadata": {},
   "outputs": [],
   "source": [
    "output = json.loads(data[0]['output'])\n",
    "entities = data[0]['targets']['entities']\n",
    "triplets = output['triplets']\n",
    "\n",
    "ood_ent_fn = lambda mention: [each['ood'] != \"in\" for each in entities if each['mention'] == mention][0]\n",
    "ood_triplets = []\n",
    "for t in triplets:\n",
    "    if ood_ent_fn(t[\"head\"]) or ood_ent_fn(t[\"tail\"]):\n",
    "        ood_triplets.append(t)"
   ]
  },
  {
   "cell_type": "code",
   "execution_count": 16,
   "metadata": {},
   "outputs": [
    {
     "data": {
      "text/plain": [
       "[{'head': 'Altiri Chiba',\n",
       "  'tail': 'basketball',\n",
       "  'relations': [{'title': 'sport',\n",
       "    'description': {'english': 'sport that the subject participates or participated in or is associated with'},\n",
       "    'aliases': {'english': ['sports', 'sport played', 'play', 'plays']}}]}]"
      ]
     },
     "execution_count": 16,
     "metadata": {},
     "output_type": "execute_result"
    }
   ],
   "source": [
    "ood_triplets"
   ]
  }
 ],
 "metadata": {
  "kernelspec": {
   "display_name": "bloom-inference",
   "language": "python",
   "name": "python3"
  },
  "language_info": {
   "codemirror_mode": {
    "name": "ipython",
    "version": 3
   },
   "file_extension": ".py",
   "mimetype": "text/x-python",
   "name": "python",
   "nbconvert_exporter": "python",
   "pygments_lexer": "ipython3",
   "version": "3.9.16"
  },
  "orig_nbformat": 4,
  "vscode": {
   "interpreter": {
    "hash": "ee5e40c0210ac7a4cf1a0217912dc40358cef4a496f45f9fe88aab70d1a0207b"
   }
  }
 },
 "nbformat": 4,
 "nbformat_minor": 2
}
