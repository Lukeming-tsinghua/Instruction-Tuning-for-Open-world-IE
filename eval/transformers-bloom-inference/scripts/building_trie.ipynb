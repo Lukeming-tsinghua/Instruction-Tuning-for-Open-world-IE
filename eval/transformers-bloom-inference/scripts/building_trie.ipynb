{
 "cells": [
  {
   "cell_type": "code",
   "execution_count": 1,
   "metadata": {},
   "outputs": [],
   "source": [
    "import sys\n",
    "sys.path.append(\"../\")\n",
    "from inference_server.utils import Trie\n",
    "\n",
    "import pickle\n",
    "import json\n",
    "from transformers import AutoTokenizer\n",
    "from tqdm import tqdm"
   ]
  },
  {
   "cell_type": "code",
   "execution_count": 2,
   "metadata": {},
   "outputs": [],
   "source": [
    "bart_tokenizer = AutoTokenizer.from_pretrained(\"facebook/bart-base\")"
   ]
  },
  {
   "cell_type": "code",
   "execution_count": 2,
   "metadata": {},
   "outputs": [],
   "source": [
    "bloom_tokenizer = AutoTokenizer.from_pretrained(\"bigscience/bloom\")"
   ]
  },
  {
   "cell_type": "code",
   "execution_count": 4,
   "metadata": {},
   "outputs": [
    {
     "data": {
      "text/plain": [
       "[',', 'Ġ\"description', '\":', 'Ġ\"n', 'one\"', ',']"
      ]
     },
     "execution_count": 4,
     "metadata": {},
     "output_type": "execute_result"
    }
   ],
   "source": [
    "bloom_tokenizer.tokenize(', \"description\": \"none\",')"
   ]
  },
  {
   "cell_type": "code",
   "execution_count": 4,
   "metadata": {},
   "outputs": [],
   "source": [
    "trie_path = \"/harddisk/user/keminglu/evaluation_corpus/resources/kilt_titles_trie_dict.pkl\""
   ]
  },
  {
   "cell_type": "code",
   "execution_count": 5,
   "metadata": {},
   "outputs": [],
   "source": [
    "trie_dict = pickle.load(open(trie_path, \"rb\"))"
   ]
  },
  {
   "cell_type": "code",
   "execution_count": 6,
   "metadata": {},
   "outputs": [],
   "source": [
    "trie = Trie.load_from_dict(trie_dict)"
   ]
  },
  {
   "cell_type": "code",
   "execution_count": 7,
   "metadata": {},
   "outputs": [
    {
     "name": "stderr",
     "output_type": "stream",
     "text": [
      "100%|█████████▉| 5903280/5903530 [08:40<00:00, 12139.50it/s]"
     ]
    }
   ],
   "source": [
    "terms = []\n",
    "pbar = tqdm(total=len(trie))\n",
    "for each in trie:\n",
    "    tokens = bart_tokenizer.convert_ids_to_tokens(each)[1:-1]\n",
    "    term = bart_tokenizer.convert_tokens_to_string(tokens)\n",
    "    bloom_term = [243001] + bloom_tokenizer.convert_tokens_to_ids(bloom_tokenizer.tokenize(' \"' + term + '\",'))\n",
    "    terms.append(bloom_term)\n",
    "    pbar.update(1)"
   ]
  },
  {
   "cell_type": "code",
   "execution_count": 9,
   "metadata": {},
   "outputs": [
    {
     "data": {
      "text/plain": [
       "['Ġ\"title\":', 'Ġ\"A', 'ch', 'ou', 'ffe', '\"', ',']"
      ]
     },
     "execution_count": 9,
     "metadata": {},
     "output_type": "execute_result"
    },
    {
     "name": "stderr",
     "output_type": "stream",
     "text": [
      "100%|██████████| 5903530/5903530 [08:56<00:00, 12139.50it/s]"
     ]
    }
   ],
   "source": [
    "bloom_tokenizer.convert_ids_to_tokens(terms[1024])"
   ]
  },
  {
   "cell_type": "code",
   "execution_count": 10,
   "metadata": {},
   "outputs": [
    {
     "name": "stderr",
     "output_type": "stream",
     "text": [
      "building trie:: 100%|██████████| 5903530/5903530 [01:20<00:00, 73778.91it/s] \n"
     ]
    }
   ],
   "source": [
    "bloom_trie = Trie(terms)"
   ]
  },
  {
   "cell_type": "code",
   "execution_count": 17,
   "metadata": {},
   "outputs": [
    {
     "data": {
      "text/plain": [
       "[]"
      ]
     },
     "execution_count": 17,
     "metadata": {},
     "output_type": "execute_result"
    }
   ],
   "source": [
    "bloom_trie.get([243001, 10101, 236440, 12136, 1512, 36291, 15])"
   ]
  },
  {
   "cell_type": "code",
   "execution_count": 18,
   "metadata": {},
   "outputs": [],
   "source": [
    "with open(\"/harddisk/user/keminglu/evaluation_corpus/resources/kilt_titles_trie_dict_bloom.pkl\", \"wb\") as f:\n",
    "    pickle.dump(bloom_trie.trie_dict, f)"
   ]
  },
  {
   "cell_type": "code",
   "execution_count": 19,
   "metadata": {},
   "outputs": [],
   "source": [
    "trie_dict = pickle.load(open(\"/harddisk/user/keminglu/evaluation_corpus/resources/kilt_titles_trie_dict_bloom.pkl\", \"rb\"))"
   ]
  },
  {
   "cell_type": "code",
   "execution_count": 20,
   "metadata": {},
   "outputs": [],
   "source": [
    "trie = Trie.load_from_dict(trie_dict)"
   ]
  },
  {
   "cell_type": "code",
   "execution_count": 61,
   "metadata": {},
   "outputs": [
    {
     "name": "stderr",
     "output_type": "stream",
     "text": [
      "building trie:: 100%|██████████| 16/16 [00:00<00:00, 34344.35it/s]\n"
     ]
    }
   ],
   "source": [
    "output = []\n",
    "for type_name in [\"organization\", \"person\", \"location\", \"miscellaneous\"]:\n",
    "    output.append(bloom_tokenizer.encode(f' \"type\": [\"{type_name}\", \"placeholder\", \"placeholder\"]}}', add_special_tokens=False)[0:-8])\n",
    "    output.append(bloom_tokenizer.encode(f' \"type\": [\"placeholder\", \"{type_name}\", \"placeholder\"]}}', add_special_tokens=False)[4:-4])\n",
    "    output.append(bloom_tokenizer.encode(f' \"type\": [\"placeholder\", \"placeholder\", \"{type_name}\"]}}', add_special_tokens=False)[8:-1])\n",
    "    output.append(bloom_tokenizer.encode(f' \"type\": [\"{type_name}\"]}}', add_special_tokens=False)[0:-1])\n",
    "\n",
    "type_trie = Trie(output)"
   ]
  },
  {
   "cell_type": "code",
   "execution_count": 63,
   "metadata": {},
   "outputs": [
    {
     "data": {
      "text/plain": [
       "['Ġ[']"
      ]
     },
     "execution_count": 63,
     "metadata": {},
     "output_type": "execute_result"
    },
    {
     "ename": "",
     "evalue": "",
     "output_type": "error",
     "traceback": [
      "\u001b[1;31mThe Kernel crashed while executing code in the the current cell or a previous cell. Please review the code in the cell(s) to identify a possible cause of the failure. Click <a href='https://aka.ms/vscodeJupyterKernelCrash'>here</a> for more info. View Jupyter <a href='command:jupyter.viewOutput'>log</a> for further details."
     ]
    }
   ],
   "source": [
    "bloom_tokenizer.tokenize(\" [\")"
   ]
  },
  {
   "cell_type": "code",
   "execution_count": 46,
   "metadata": {},
   "outputs": [
    {
     "name": "stdout",
     "output_type": "stream",
     "text": [
      "[116220, 34955, 169753, 5, 15]\n",
      "[116220, 34955, 169753, 9568]\n",
      "[116220, 34955, 39667, 5, 15]\n",
      "[116220, 34955, 39667, 9568]\n",
      "[116220, 34955, 17394, 5, 15]\n",
      "[116220, 34955, 17394, 9568]\n",
      "[116220, 34955, 201154, 905, 67309, 5, 15]\n",
      "[116220, 34955, 201154, 905, 67309, 9568]\n",
      "[15, 567, 169753, 5, 15]\n",
      "[15, 567, 169753, 9568]\n",
      "[15, 567, 17394, 5, 15]\n",
      "[15, 567, 17394, 9568]\n",
      "[15, 19970, 6326, 5, 15]\n",
      "[15, 19970, 6326, 9568]\n",
      "[15, 13209, 12037, 905, 67309, 5, 15]\n",
      "[15, 13209, 12037, 905, 67309, 9568]\n"
     ]
    }
   ],
   "source": [
    "for each in type_trie:\n",
    "    print(each)"
   ]
  },
  {
   "cell_type": "code",
   "execution_count": 47,
   "metadata": {},
   "outputs": [
    {
     "data": {
      "text/plain": [
       "True"
      ]
     },
     "execution_count": 47,
     "metadata": {},
     "output_type": "execute_result"
    }
   ],
   "source": [
    "15 in type_trie.trie_dict"
   ]
  },
  {
   "cell_type": "code",
   "execution_count": 44,
   "metadata": {},
   "outputs": [],
   "source": [
    "with open(\"/harddisk/user/keminglu/evaluation_corpus/resources/basic_types_trie_dict_bloom.pkl\", \"wb\") as f:\n",
    "    pickle.dump(type_trie.trie_dict, f)"
   ]
  },
  {
   "cell_type": "code",
   "execution_count": 49,
   "metadata": {},
   "outputs": [],
   "source": [
    "ufet_data = [json.loads(line) for line in open(\"/harddisk/user/keminglu/evaluation_corpus/processed_benchmarks/entity_typing/ufet_test.json\").readlines()]"
   ]
  },
  {
   "cell_type": "code",
   "execution_count": 50,
   "metadata": {},
   "outputs": [],
   "source": [
    "ufet_types = list(set(sum([sample['true'] for sample in ufet_data], [])))"
   ]
  },
  {
   "cell_type": "code",
   "execution_count": 52,
   "metadata": {},
   "outputs": [
    {
     "data": {
      "text/plain": [
       "1682"
      ]
     },
     "execution_count": 52,
     "metadata": {},
     "output_type": "execute_result"
    }
   ],
   "source": [
    "len(ufet_types)"
   ]
  },
  {
   "cell_type": "code",
   "execution_count": 53,
   "metadata": {},
   "outputs": [
    {
     "name": "stderr",
     "output_type": "stream",
     "text": [
      "building trie:: 100%|██████████| 6728/6728 [00:00<00:00, 398380.42it/s]\n"
     ]
    }
   ],
   "source": [
    "output = []\n",
    "for type_name in ufet_types:\n",
    "    output.append(bloom_tokenizer.encode(f' \"type\": [\"{type_name}\", \"placeholder\", \"placeholder\"]}}', add_special_tokens=False)[0:-8])\n",
    "    output.append(bloom_tokenizer.encode(f' \"type\": [\"placeholder\", \"{type_name}\", \"placeholder\"]}}', add_special_tokens=False)[4:-4])\n",
    "    output.append(bloom_tokenizer.encode(f' \"type\": [\"placeholder\", \"placeholder\", \"{type_name}\"]}}', add_special_tokens=False)[8:-1])\n",
    "    output.append(bloom_tokenizer.encode(f' \"type\": [\"{type_name}\"]}}', add_special_tokens=False)[0:-1])\n",
    "\n",
    "type_trie = Trie(output)"
   ]
  },
  {
   "cell_type": "code",
   "execution_count": 57,
   "metadata": {},
   "outputs": [
    {
     "data": {
      "text/plain": [
       "{15, 9568, 217017, 230106}"
      ]
     },
     "execution_count": 57,
     "metadata": {},
     "output_type": "execute_result"
    }
   ],
   "source": [
    "set([each[-1] for each in type_trie])"
   ]
  },
  {
   "cell_type": "code",
   "execution_count": 55,
   "metadata": {},
   "outputs": [],
   "source": [
    "with open(\"/harddisk/user/keminglu/evaluation_corpus/resources/ufet_types_trie_dict_bloom.pkl\", \"wb\") as f:\n",
    "    pickle.dump(type_trie.trie_dict, f)"
   ]
  },
  {
   "cell_type": "code",
   "execution_count": 3,
   "metadata": {},
   "outputs": [],
   "source": [
    "def generate_type_trie(types):\n",
    "    output = []\n",
    "    for type_name in types:\n",
    "        output.append(bloom_tokenizer.encode(f' \"type\": [\"{type_name}\", \"placeholder\", \"placeholder\"]}}', add_special_tokens=False)[0:-8])\n",
    "        output.append(bloom_tokenizer.encode(f' \"type\": [\"placeholder\", \"{type_name}\", \"placeholder\"]}}', add_special_tokens=False)[4:-4])\n",
    "        output.append(bloom_tokenizer.encode(f' \"type\": [\"placeholder\", \"placeholder\", \"{type_name}\"]}}', add_special_tokens=False)[8:-1])\n",
    "        output.append(bloom_tokenizer.encode(f' \"type\": [\"{type_name}\"]}}', add_special_tokens=False)[0:-1])\n",
    "    type_trie = Trie(output)\n",
    "    return type_trie"
   ]
  },
  {
   "cell_type": "code",
   "execution_count": 35,
   "metadata": {},
   "outputs": [],
   "source": [
    "with open(\"/harddisk/user/keminglu/evaluation_corpus/processed_benchmarks/ner/crossner_science_gold.jsonl\") as f:\n",
    "    data = [json.loads(line) for line in f.readlines()]\n",
    "    types = [[each[1] for each in sample['true']] for sample in data]\n",
    "    types = list(set(sum(types, [])))"
   ]
  },
  {
   "cell_type": "code",
   "execution_count": 36,
   "metadata": {},
   "outputs": [
    {
     "data": {
      "text/plain": [
       "['organisation',\n",
       " 'award',\n",
       " 'event',\n",
       " 'university',\n",
       " 'academicjournal',\n",
       " 'protein',\n",
       " 'enzyme',\n",
       " 'location',\n",
       " 'chemicalcompound',\n",
       " 'country',\n",
       " 'chemicalelement',\n",
       " 'discipline',\n",
       " 'theory',\n",
       " 'person',\n",
       " 'scientist',\n",
       " 'misc',\n",
       " 'astronomicalobject']"
      ]
     },
     "execution_count": 36,
     "metadata": {},
     "output_type": "execute_result"
    }
   ],
   "source": [
    "types"
   ]
  },
  {
   "cell_type": "code",
   "execution_count": 39,
   "metadata": {},
   "outputs": [],
   "source": [
    "mapping = {\n",
    "    \"organisation\": \"organization\",\n",
    "    \"programlang\": \"programming language\",\n",
    "    \"misc\": \"miscellaneous\",\n",
    "    \"literarygenre\": \"literary genre\",\n",
    "    \"musicalinstrument\": \"musical instrument\",\n",
    "    \"musicalartist\": \"musical artist\",\n",
    "    \"musicgenre\": \"music genre\",\n",
    "    \"politicalparty\": \"political party\",\n",
    "    \"academicjournal\": \"academic journal\",\n",
    "    \"chemicalcompound\": \"chemical compound\",\n",
    "    \"chemicalelement\": \"chemical element\",\n",
    "    \"astronomicalobject\": \"astronomical object\",\n",
    "}\n",
    "processed_types = [mapping[type] if type in mapping else type for type in types]"
   ]
  },
  {
   "cell_type": "code",
   "execution_count": 40,
   "metadata": {},
   "outputs": [
    {
     "data": {
      "text/plain": [
       "['organization',\n",
       " 'award',\n",
       " 'event',\n",
       " 'university',\n",
       " 'academic journal',\n",
       " 'protein',\n",
       " 'enzyme',\n",
       " 'location',\n",
       " 'chemical compound',\n",
       " 'country',\n",
       " 'chemical element',\n",
       " 'discipline',\n",
       " 'theory',\n",
       " 'person',\n",
       " 'scientist',\n",
       " 'miscellaneous',\n",
       " 'astronomical object']"
      ]
     },
     "execution_count": 40,
     "metadata": {},
     "output_type": "execute_result"
    }
   ],
   "source": [
    "processed_types"
   ]
  },
  {
   "cell_type": "code",
   "execution_count": 41,
   "metadata": {},
   "outputs": [
    {
     "name": "stderr",
     "output_type": "stream",
     "text": [
      "building trie:: 100%|██████████| 68/68 [00:00<00:00, 111020.89it/s]\n"
     ]
    }
   ],
   "source": [
    "type_trie = generate_type_trie(processed_types)"
   ]
  },
  {
   "cell_type": "code",
   "execution_count": 42,
   "metadata": {},
   "outputs": [],
   "source": [
    "with open(\"/harddisk/user/keminglu/evaluation_corpus/resources/crossner_science_types_trie_dict_bloom.pkl\", \"wb\") as f:\n",
    "    pickle.dump(type_trie.trie_dict, f)"
   ]
  }
 ],
 "metadata": {
  "kernelspec": {
   "display_name": "bloom-inference",
   "language": "python",
   "name": "python3"
  },
  "language_info": {
   "codemirror_mode": {
    "name": "ipython",
    "version": 3
   },
   "file_extension": ".py",
   "mimetype": "text/x-python",
   "name": "python",
   "nbconvert_exporter": "python",
   "pygments_lexer": "ipython3",
   "version": "3.9.16"
  },
  "orig_nbformat": 4,
  "vscode": {
   "interpreter": {
    "hash": "ee5e40c0210ac7a4cf1a0217912dc40358cef4a496f45f9fe88aab70d1a0207b"
   }
  }
 },
 "nbformat": 4,
 "nbformat_minor": 2
}
