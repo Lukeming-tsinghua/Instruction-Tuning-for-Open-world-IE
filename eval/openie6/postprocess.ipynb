{
 "cells": [
  {
   "cell_type": "code",
   "execution_count": 26,
   "metadata": {},
   "outputs": [],
   "source": [
    "import re\n",
    "import json\n",
    "import os\n",
    "from tqdm.notebook import tqdm"
   ]
  },
  {
   "cell_type": "code",
   "execution_count": 2,
   "metadata": {},
   "outputs": [],
   "source": [
    "def process(line):\n",
    "    try:\n",
    "        score, triplet = line.split(\":\", 1)\n",
    "        score = float(score.strip())\n",
    "        triplet = triplet.strip()[1:-2].split(\";\")\n",
    "        triplet = list(map(lambda x: x.strip(), triplet))\n",
    "    except Exception as e:\n",
    "        print(line)\n",
    "        raise e\n",
    "    return score, triplet"
   ]
  },
  {
   "cell_type": "code",
   "execution_count": 30,
   "metadata": {},
   "outputs": [
    {
     "data": {
      "application/vnd.jupyter.widget-view+json": {
       "model_id": "d95fb8c94a4f4af2a890d50de294c0a2",
       "version_major": 2,
       "version_minor": 0
      },
      "text/plain": [
       "HBox(children=(FloatProgress(value=0.0, max=117590.0), HTML(value='')))"
      ]
     },
     "metadata": {},
     "output_type": "display_data"
    }
   ],
   "source": [
    "samples = {}\n",
    "pbar = tqdm(total=117590)\n",
    "with open(\"predictions.txt\") as f:\n",
    "    line = f.readline()\n",
    "    while line:\n",
    "        pbar.update(1)\n",
    "        context = line\n",
    "        idx = context.split(\" \", 1)[0]\n",
    "        results = []\n",
    "        line = f.readline()\n",
    "        while line != \"\\n\":\n",
    "            line = line.replace(idx, \"\")\n",
    "            score, triplet = process(line)\n",
    "            if score > 0.5:\n",
    "                results.append(triplet)\n",
    "            line = f.readline()\n",
    "            pbar.update(1)\n",
    "        samples[idx] = results\n",
    "        line = f.readline()\n"
   ]
  },
  {
   "cell_type": "code",
   "execution_count": 4,
   "metadata": {},
   "outputs": [],
   "source": [
    "orig_data = [json.loads(line) for line in open(\"/harddisk/user/keminglu/pretrained_data_processed/wikipedia_with_mention_wo_title_simplified_aug_eval/corpus_filtered_test_prompt_rephrased\").readlines()]"
   ]
  },
  {
   "cell_type": "code",
   "execution_count": 5,
   "metadata": {},
   "outputs": [],
   "source": [
    "orig_data = [sample for sample in orig_data if sample['aug_type'] == 'aug_default']"
   ]
  },
  {
   "cell_type": "code",
   "execution_count": 31,
   "metadata": {},
   "outputs": [],
   "source": [
    "data_for_carb = []\n",
    "for sample in orig_data:\n",
    "    triplets = json.loads(sample['targets'])['triplets']\n",
    "    true = []\n",
    "    for each in triplets:\n",
    "        for r in each['relations']:\n",
    "            true.append([each['tail'], each['head'], r])\n",
    "    pred = [[h, t, r] for h, r, t in samples[sample['id']]] if sample['id'] in samples else []\n",
    "    data_for_carb.append((sample['inputs'], true, pred))"
   ]
  },
  {
   "cell_type": "code",
   "execution_count": 32,
   "metadata": {},
   "outputs": [
    {
     "data": {
      "text/plain": [
       "('\"Money So Big\" (stylized as \"Monëy So Big\") is a song by American rapper Yeat from his debut studio album \"Up 2 Me\" (2021). It was produced by Trgc and Nest. It gained traction through the video-sharing platform TikTok and has become one of Yeat\\'s most popular songs.',\n",
       " [['Yeat', 'Up 2 Me', 'performer']],\n",
       " [['`` Money So Big', 'as `` Monëy So Bi', 'stylized'],\n",
       "  [\"`` Money So Big '' ( stylized as `` Monëy So Big '' )\",\n",
       "   \"a song by American rapper Yeat from his debut studio album `` Up 2 Me '\",\n",
       "   'is'],\n",
       "  [\"`` Money So Big '' ( stylized as `` Monëy So Big '' )\",\n",
       "   \"a song by American rapper Yeat from his debut studio album `` Up 2 Me '' ( 2021 ) one of Yeat 's most popular song\",\n",
       "   'is'],\n",
       "  [\"`` Money So Big '' ( stylized as `` Monëy So Big '' )\",\n",
       "   'a song by American rapper Yeat from his debut studio album `` Up',\n",
       "   'is'],\n",
       "  [\"`` Money So Big '' ( stylized as `` Monëy So Big '' )\",\n",
       "   \"a song by American rapper Yeat from his debut studio album `` Up 2 Me '' one of Yeat 's most popular song\",\n",
       "   'is']])"
      ]
     },
     "execution_count": 32,
     "metadata": {},
     "output_type": "execute_result"
    }
   ],
   "source": [
    "data_for_carb[10]"
   ]
  },
  {
   "cell_type": "code",
   "execution_count": 34,
   "metadata": {},
   "outputs": [],
   "source": [
    "carb_dir = \"/data/home/keminglu/local_workspace/CaRB/files\"\n",
    "with open(os.path.join(carb_dir, f\"openie6_gold.tsv\"), \"w\") as fg:\n",
    "    with open(os.path.join(carb_dir, f\"openie6_pred.tsv\"), \"w\") as fp:\n",
    "        for sent, gold, pred in data_for_carb:\n",
    "            sent = sent.replace(\"\\t\", \"\")\n",
    "            for h, t, r in gold:\n",
    "                h, t, r = h.replace(\"\\t\", \"\"), t.replace(\"\\t\", \"\"), r.replace(\"\\t\", \"\")\n",
    "                r = r.replace(\"_\", \"\")\n",
    "                fg.write(f\"{sent}\\t{r}\\t{h}\\t{t}\\n\")\n",
    "            for h, t, r in pred:\n",
    "                h, t, r = h.replace(\"\\t\", \"\"), t.replace(\"\\t\", \"\"), r.replace(\"\\t\", \"\")\n",
    "                r = r.replace(\"_\", \" \")\n",
    "                fp.write(f\"{sent}\\t1\\t{r}\\t{h}\\t{t}\\n\")"
   ]
  }
 ],
 "metadata": {
  "kernelspec": {
   "display_name": "openie6",
   "language": "python",
   "name": "python3"
  },
  "language_info": {
   "codemirror_mode": {
    "name": "ipython",
    "version": 3
   },
   "file_extension": ".py",
   "mimetype": "text/x-python",
   "name": "python",
   "nbconvert_exporter": "python",
   "pygments_lexer": "ipython3",
   "version": "3.6.13"
  },
  "orig_nbformat": 4
 },
 "nbformat": 4,
 "nbformat_minor": 2
}
